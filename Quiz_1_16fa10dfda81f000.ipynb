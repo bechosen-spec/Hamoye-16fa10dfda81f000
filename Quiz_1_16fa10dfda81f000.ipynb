{
  "nbformat": 4,
  "nbformat_minor": 0,
  "metadata": {
    "colab": {
      "provenance": [],
      "authorship_tag": "ABX9TyPw2H7IEDFYJk88rviuwzv6"
    },
    "kernelspec": {
      "name": "python3",
      "display_name": "Python 3"
    },
    "language_info": {
      "name": "python"
    }
  },
  "cells": [
    {
      "cell_type": "code",
      "execution_count": 1,
      "metadata": {
        "id": "Wa6RQc6HfoLz"
      },
      "outputs": [],
      "source": [
        "import pandas as pd\n",
        "\n",
        "#import of the dataset using panda\n",
        "df = pd.read_csv(r'FoodBalanceSheets_E_Africa_NOFLAG.csv', encoding = \"latin-1\")"
      ]
    },
    {
      "cell_type": "code",
      "source": [
        "import pandas as pd\n",
        "\n",
        "df = pd.read_csv(r'FoodBalanceSheets_E_Africa_NOFLAG.csv', encoding = \"latin-1\")\n",
        "\n",
        "# Which of these Areas in the dataset had the highest sum in 2017?\n",
        "df.groupby(['Area'])['Y2017'].sum()"
      ],
      "metadata": {
        "colab": {
          "base_uri": "https://localhost:8080/"
        },
        "id": "c1VItgxdfsNq",
        "outputId": "bce5879b-8718-42cc-be76-28f47b8963a3"
      },
      "execution_count": 2,
      "outputs": [
        {
          "output_type": "execute_result",
          "data": {
            "text/plain": [
              "Area\n",
              "Algeria                         325644.27\n",
              "Angola                          229159.57\n",
              "Benin                           124771.22\n",
              "Botswana                         22101.30\n",
              "Burkina Faso                    101855.07\n",
              "Cabo Verde                       14650.74\n",
              "Cameroon                        232030.43\n",
              "Central African Republic         29937.00\n",
              "Chad                             71594.68\n",
              "Comoros                             59.84\n",
              "Congo                            41181.68\n",
              "Côte d'Ivoire                   224599.01\n",
              "Djibouti                         22729.91\n",
              "Egypt                           866379.92\n",
              "Eswatini                         54343.33\n",
              "Ethiopia                        448683.76\n",
              "Ethiopia PDR                         0.00\n",
              "Gabon                            27979.64\n",
              "Gambia                           23154.18\n",
              "Ghana                           337599.06\n",
              "Guinea                           98138.87\n",
              "Guinea-Bissau                    19102.77\n",
              "Kenya                           264660.66\n",
              "Lesotho                          21267.96\n",
              "Liberia                          29342.20\n",
              "Madagascar                      131197.73\n",
              "Malawi                          181098.71\n",
              "Mali                            149928.33\n",
              "Mauritania                      156665.46\n",
              "Mauritius                        51114.83\n",
              "Morocco                         388495.36\n",
              "Mozambique                      161407.98\n",
              "Namibia                          29874.89\n",
              "Niger                           126707.58\n",
              "Nigeria                        1483268.23\n",
              "Rwanda                           73663.69\n",
              "Sao Tome and Principe            12662.63\n",
              "Senegal                          95681.15\n",
              "Seychelles                         442.34\n",
              "Sierra Leone                     55311.33\n",
              "South Africa                    517590.54\n",
              "Sudan                           239931.92\n",
              "Sudan (former)                       0.00\n",
              "Togo                             49841.88\n",
              "Tunisia                         124167.20\n",
              "Uganda                          213950.38\n",
              "United Republic of Tanzania     322616.85\n",
              "Zambia                          103223.77\n",
              "Zimbabwe                         75919.34\n",
              "Name: Y2017, dtype: float64"
            ]
          },
          "metadata": {},
          "execution_count": 2
        }
      ]
    },
    {
      "cell_type": "code",
      "source": [
        "import pandas as pd\n",
        "\n",
        "df = pd.read_csv(r'FoodBalanceSheets_E_Africa_NOFLAG.csv', encoding = \"latin-1\")\n",
        "\n",
        "#Which year in the dataset had the least correlation with ‘Element Code’?\n",
        "corr_matrix = df.corr()\n",
        "\n",
        "least_corr = corr_matrix['Element Code'].sort_values()[0]\n",
        "\n",
        "df.loc[:, 'Y2017'].mean()\n",
        "df.loc[:, 'Y2017'].std()\n",
        "\n",
        "round(df.loc[:, 'Y2017'].mean(), 2)\n",
        "round(df.loc[:, 'Y2017'].std(), 2)"
      ],
      "metadata": {
        "colab": {
          "base_uri": "https://localhost:8080/"
        },
        "id": "QwtZRcQTfwx2",
        "outputId": "fad1981b-92e6-4c7b-e53a-73e193197d86"
      },
      "execution_count": 3,
      "outputs": [
        {
          "output_type": "stream",
          "name": "stderr",
          "text": [
            "<ipython-input-3-cc0290db42bd>:6: FutureWarning: The default value of numeric_only in DataFrame.corr is deprecated. In a future version, it will default to False. Select only valid columns or specify the value of numeric_only to silence this warning.\n",
            "  corr_matrix = df.corr()\n"
          ]
        },
        {
          "output_type": "execute_result",
          "data": {
            "text/plain": [
              "1671.86"
            ]
          },
          "metadata": {},
          "execution_count": 3
        }
      ]
    },
    {
      "cell_type": "code",
      "source": [
        "least_corr"
      ],
      "metadata": {
        "colab": {
          "base_uri": "https://localhost:8080/"
        },
        "id": "p9tAvzRRf0_X",
        "outputId": "b2793418-6f1e-4156-8823-b4b36a77558e"
      },
      "execution_count": 4,
      "outputs": [
        {
          "output_type": "execute_result",
          "data": {
            "text/plain": [
              "-0.02468327357386329"
            ]
          },
          "metadata": {},
          "execution_count": 4
        }
      ]
    },
    {
      "cell_type": "code",
      "source": [
        "import pandas as pd\n",
        "#Calculate Which of these Areas in the dataset had the 7th lowest sum in 2017?\n",
        "df = pd.read_csv(r'FoodBalanceSheets_E_Africa_NOFLAG.csv', encoding='latin-1', usecols=['Y2017', 'Area'])\n",
        "\n",
        "grouped = df.groupby('Area').sum()\n",
        "\n",
        "print(grouped.nsmallest(7, 'Y2017'))"
      ],
      "metadata": {
        "colab": {
          "base_uri": "https://localhost:8080/"
        },
        "id": "nXyQuitof44x",
        "outputId": "d9218ee1-1c13-4ba1-8dad-bf6513fc0216"
      },
      "execution_count": 5,
      "outputs": [
        {
          "output_type": "stream",
          "name": "stdout",
          "text": [
            "                          Y2017\n",
            "Area                           \n",
            "Ethiopia PDR               0.00\n",
            "Sudan (former)             0.00\n",
            "Comoros                   59.84\n",
            "Seychelles               442.34\n",
            "Sao Tome and Principe  12662.63\n",
            "Cabo Verde             14650.74\n",
            "Guinea-Bissau          19102.77\n"
          ]
        }
      ]
    },
    {
      "cell_type": "code",
      "source": [
        "import numpy as np\n",
        "\n",
        "array = np.array([[94, 89, 63],\n",
        "                  [93, 92, 48],\n",
        "                  [92, 94, 56]])\n",
        "\n",
        "print(array[0:2, 1:3])"
      ],
      "metadata": {
        "colab": {
          "base_uri": "https://localhost:8080/"
        },
        "id": "0ifyBTZPf-Xu",
        "outputId": "14f74b46-7c9e-4c42-814b-1620cd221fa8"
      },
      "execution_count": 6,
      "outputs": [
        {
          "output_type": "stream",
          "name": "stdout",
          "text": [
            "[[89 63]\n",
            " [92 48]]\n"
          ]
        }
      ]
    },
    {
      "cell_type": "code",
      "source": [
        "import pandas as pd\n",
        "\n",
        "# Load the dataset\n",
        "df = pd.read_csv(r'FoodBalanceSheets_E_Africa_NOFLAG.csv', encoding='latin-1')\n",
        "# Group by 'Element' and sum all columns\n",
        "grouped = df.groupby('Element').sum()\n",
        "\n",
        "# Find the year with the highest sum\n",
        "year = grouped.sum(axis=1).idxmax()\n",
        "\n",
        "print(f\"{year}.\")\n"
      ],
      "metadata": {
        "colab": {
          "base_uri": "https://localhost:8080/"
        },
        "id": "YQGMvuQcgDS5",
        "outputId": "e3361197-38c4-45ac-d044-96529ee6f9ed"
      },
      "execution_count": 7,
      "outputs": [
        {
          "output_type": "stream",
          "name": "stdout",
          "text": [
            "Domestic supply quantity.\n"
          ]
        },
        {
          "output_type": "stream",
          "name": "stderr",
          "text": [
            "<ipython-input-7-a0fc3b8dfb65>:6: FutureWarning: The default value of numeric_only in DataFrameGroupBy.sum is deprecated. In a future version, numeric_only will default to False. Either specify numeric_only or select only columns which should be valid for the function.\n",
            "  grouped = df.groupby('Element').sum()\n"
          ]
        }
      ]
    },
    {
      "cell_type": "code",
      "source": [
        "import pandas as pd\n",
        "\n",
        "# Load the dataset\n",
        "df = pd.read_csv(r'FoodBalanceSheets_E_Africa_NOFLAG.csv', encoding='latin-1')\n",
        "\n",
        "# Sum specific columns\n",
        "df['Element'] = df[['Y2014', 'Y2015', 'Y2016', 'Y2017', 'Y2018']].sum(axis=1)\n",
        "highest_sum = df.groupby('Element').sum().max()"
      ],
      "metadata": {
        "colab": {
          "base_uri": "https://localhost:8080/"
        },
        "id": "NDRmwEPSgHc4",
        "outputId": "d92e1146-42a5-4236-b30f-18b6d53a3515"
      },
      "execution_count": 8,
      "outputs": [
        {
          "output_type": "stream",
          "name": "stderr",
          "text": [
            "<ipython-input-8-2cb5f196208f>:8: FutureWarning: The default value of numeric_only in DataFrameGroupBy.sum is deprecated. In a future version, numeric_only will default to False. Either specify numeric_only or select only columns which should be valid for the function.\n",
            "  highest_sum = df.groupby('Element').sum().max()\n"
          ]
        }
      ]
    },
    {
      "cell_type": "code",
      "source": [
        "df"
      ],
      "metadata": {
        "colab": {
          "base_uri": "https://localhost:8080/",
          "height": 505
        },
        "id": "GKdkoguxgJzE",
        "outputId": "4d5fdd0f-2088-4627-bf48-b4a5a6267daf"
      },
      "execution_count": 9,
      "outputs": [
        {
          "output_type": "execute_result",
          "data": {
            "text/plain": [
              "       Area Code      Area  Item Code           Item  Element Code    Element  \\\n",
              "0              4   Algeria       2501     Population           511  202820.00   \n",
              "1              4   Algeria       2501     Population          5301       0.00   \n",
              "2              4   Algeria       2901    Grand Total           664   16791.00   \n",
              "3              4   Algeria       2901    Grand Total           674     468.62   \n",
              "4              4   Algeria       2901    Grand Total           684     394.29   \n",
              "...          ...       ...        ...            ...           ...        ...   \n",
              "60938        181  Zimbabwe       2899  Miscellaneous          5142     156.00   \n",
              "60939        181  Zimbabwe       2899  Miscellaneous           645      11.15   \n",
              "60940        181  Zimbabwe       2899  Miscellaneous           664      12.00   \n",
              "60941        181  Zimbabwe       2899  Miscellaneous           674       0.37   \n",
              "60942        181  Zimbabwe       2899  Miscellaneous           684       0.15   \n",
              "\n",
              "                  Unit     Y2014     Y2015     Y2016     Y2017     Y2018  \n",
              "0         1000 persons  38924.00  39728.00  40551.00  41389.00  42228.00  \n",
              "1          1000 tonnes      0.00      0.00      0.00      0.00      0.00  \n",
              "2      kcal/capita/day   3377.00   3379.00   3372.00   3341.00   3322.00  \n",
              "3         g/capita/day     94.90     94.35     94.72     92.82     91.83  \n",
              "4         g/capita/day     80.06     79.36     77.40     80.19     77.28  \n",
              "...                ...       ...       ...       ...       ...       ...  \n",
              "60938      1000 tonnes     42.00     46.00     33.00     19.00     16.00  \n",
              "60939               kg      3.06      3.33      2.35      1.33      1.08  \n",
              "60940  kcal/capita/day      3.00      4.00      3.00      1.00      1.00  \n",
              "60941     g/capita/day      0.10      0.11      0.08      0.04      0.04  \n",
              "60942     g/capita/day      0.04      0.05      0.03      0.02      0.01  \n",
              "\n",
              "[60943 rows x 12 columns]"
            ],
            "text/html": [
              "\n",
              "  <div id=\"df-2e7a48f8-ec18-4eae-93fb-d486240f5c67\">\n",
              "    <div class=\"colab-df-container\">\n",
              "      <div>\n",
              "<style scoped>\n",
              "    .dataframe tbody tr th:only-of-type {\n",
              "        vertical-align: middle;\n",
              "    }\n",
              "\n",
              "    .dataframe tbody tr th {\n",
              "        vertical-align: top;\n",
              "    }\n",
              "\n",
              "    .dataframe thead th {\n",
              "        text-align: right;\n",
              "    }\n",
              "</style>\n",
              "<table border=\"1\" class=\"dataframe\">\n",
              "  <thead>\n",
              "    <tr style=\"text-align: right;\">\n",
              "      <th></th>\n",
              "      <th>Area Code</th>\n",
              "      <th>Area</th>\n",
              "      <th>Item Code</th>\n",
              "      <th>Item</th>\n",
              "      <th>Element Code</th>\n",
              "      <th>Element</th>\n",
              "      <th>Unit</th>\n",
              "      <th>Y2014</th>\n",
              "      <th>Y2015</th>\n",
              "      <th>Y2016</th>\n",
              "      <th>Y2017</th>\n",
              "      <th>Y2018</th>\n",
              "    </tr>\n",
              "  </thead>\n",
              "  <tbody>\n",
              "    <tr>\n",
              "      <th>0</th>\n",
              "      <td>4</td>\n",
              "      <td>Algeria</td>\n",
              "      <td>2501</td>\n",
              "      <td>Population</td>\n",
              "      <td>511</td>\n",
              "      <td>202820.00</td>\n",
              "      <td>1000 persons</td>\n",
              "      <td>38924.00</td>\n",
              "      <td>39728.00</td>\n",
              "      <td>40551.00</td>\n",
              "      <td>41389.00</td>\n",
              "      <td>42228.00</td>\n",
              "    </tr>\n",
              "    <tr>\n",
              "      <th>1</th>\n",
              "      <td>4</td>\n",
              "      <td>Algeria</td>\n",
              "      <td>2501</td>\n",
              "      <td>Population</td>\n",
              "      <td>5301</td>\n",
              "      <td>0.00</td>\n",
              "      <td>1000 tonnes</td>\n",
              "      <td>0.00</td>\n",
              "      <td>0.00</td>\n",
              "      <td>0.00</td>\n",
              "      <td>0.00</td>\n",
              "      <td>0.00</td>\n",
              "    </tr>\n",
              "    <tr>\n",
              "      <th>2</th>\n",
              "      <td>4</td>\n",
              "      <td>Algeria</td>\n",
              "      <td>2901</td>\n",
              "      <td>Grand Total</td>\n",
              "      <td>664</td>\n",
              "      <td>16791.00</td>\n",
              "      <td>kcal/capita/day</td>\n",
              "      <td>3377.00</td>\n",
              "      <td>3379.00</td>\n",
              "      <td>3372.00</td>\n",
              "      <td>3341.00</td>\n",
              "      <td>3322.00</td>\n",
              "    </tr>\n",
              "    <tr>\n",
              "      <th>3</th>\n",
              "      <td>4</td>\n",
              "      <td>Algeria</td>\n",
              "      <td>2901</td>\n",
              "      <td>Grand Total</td>\n",
              "      <td>674</td>\n",
              "      <td>468.62</td>\n",
              "      <td>g/capita/day</td>\n",
              "      <td>94.90</td>\n",
              "      <td>94.35</td>\n",
              "      <td>94.72</td>\n",
              "      <td>92.82</td>\n",
              "      <td>91.83</td>\n",
              "    </tr>\n",
              "    <tr>\n",
              "      <th>4</th>\n",
              "      <td>4</td>\n",
              "      <td>Algeria</td>\n",
              "      <td>2901</td>\n",
              "      <td>Grand Total</td>\n",
              "      <td>684</td>\n",
              "      <td>394.29</td>\n",
              "      <td>g/capita/day</td>\n",
              "      <td>80.06</td>\n",
              "      <td>79.36</td>\n",
              "      <td>77.40</td>\n",
              "      <td>80.19</td>\n",
              "      <td>77.28</td>\n",
              "    </tr>\n",
              "    <tr>\n",
              "      <th>...</th>\n",
              "      <td>...</td>\n",
              "      <td>...</td>\n",
              "      <td>...</td>\n",
              "      <td>...</td>\n",
              "      <td>...</td>\n",
              "      <td>...</td>\n",
              "      <td>...</td>\n",
              "      <td>...</td>\n",
              "      <td>...</td>\n",
              "      <td>...</td>\n",
              "      <td>...</td>\n",
              "      <td>...</td>\n",
              "    </tr>\n",
              "    <tr>\n",
              "      <th>60938</th>\n",
              "      <td>181</td>\n",
              "      <td>Zimbabwe</td>\n",
              "      <td>2899</td>\n",
              "      <td>Miscellaneous</td>\n",
              "      <td>5142</td>\n",
              "      <td>156.00</td>\n",
              "      <td>1000 tonnes</td>\n",
              "      <td>42.00</td>\n",
              "      <td>46.00</td>\n",
              "      <td>33.00</td>\n",
              "      <td>19.00</td>\n",
              "      <td>16.00</td>\n",
              "    </tr>\n",
              "    <tr>\n",
              "      <th>60939</th>\n",
              "      <td>181</td>\n",
              "      <td>Zimbabwe</td>\n",
              "      <td>2899</td>\n",
              "      <td>Miscellaneous</td>\n",
              "      <td>645</td>\n",
              "      <td>11.15</td>\n",
              "      <td>kg</td>\n",
              "      <td>3.06</td>\n",
              "      <td>3.33</td>\n",
              "      <td>2.35</td>\n",
              "      <td>1.33</td>\n",
              "      <td>1.08</td>\n",
              "    </tr>\n",
              "    <tr>\n",
              "      <th>60940</th>\n",
              "      <td>181</td>\n",
              "      <td>Zimbabwe</td>\n",
              "      <td>2899</td>\n",
              "      <td>Miscellaneous</td>\n",
              "      <td>664</td>\n",
              "      <td>12.00</td>\n",
              "      <td>kcal/capita/day</td>\n",
              "      <td>3.00</td>\n",
              "      <td>4.00</td>\n",
              "      <td>3.00</td>\n",
              "      <td>1.00</td>\n",
              "      <td>1.00</td>\n",
              "    </tr>\n",
              "    <tr>\n",
              "      <th>60941</th>\n",
              "      <td>181</td>\n",
              "      <td>Zimbabwe</td>\n",
              "      <td>2899</td>\n",
              "      <td>Miscellaneous</td>\n",
              "      <td>674</td>\n",
              "      <td>0.37</td>\n",
              "      <td>g/capita/day</td>\n",
              "      <td>0.10</td>\n",
              "      <td>0.11</td>\n",
              "      <td>0.08</td>\n",
              "      <td>0.04</td>\n",
              "      <td>0.04</td>\n",
              "    </tr>\n",
              "    <tr>\n",
              "      <th>60942</th>\n",
              "      <td>181</td>\n",
              "      <td>Zimbabwe</td>\n",
              "      <td>2899</td>\n",
              "      <td>Miscellaneous</td>\n",
              "      <td>684</td>\n",
              "      <td>0.15</td>\n",
              "      <td>g/capita/day</td>\n",
              "      <td>0.04</td>\n",
              "      <td>0.05</td>\n",
              "      <td>0.03</td>\n",
              "      <td>0.02</td>\n",
              "      <td>0.01</td>\n",
              "    </tr>\n",
              "  </tbody>\n",
              "</table>\n",
              "<p>60943 rows × 12 columns</p>\n",
              "</div>\n",
              "      <button class=\"colab-df-convert\" onclick=\"convertToInteractive('df-2e7a48f8-ec18-4eae-93fb-d486240f5c67')\"\n",
              "              title=\"Convert this dataframe to an interactive table.\"\n",
              "              style=\"display:none;\">\n",
              "        \n",
              "  <svg xmlns=\"http://www.w3.org/2000/svg\" height=\"24px\"viewBox=\"0 0 24 24\"\n",
              "       width=\"24px\">\n",
              "    <path d=\"M0 0h24v24H0V0z\" fill=\"none\"/>\n",
              "    <path d=\"M18.56 5.44l.94 2.06.94-2.06 2.06-.94-2.06-.94-.94-2.06-.94 2.06-2.06.94zm-11 1L8.5 8.5l.94-2.06 2.06-.94-2.06-.94L8.5 2.5l-.94 2.06-2.06.94zm10 10l.94 2.06.94-2.06 2.06-.94-2.06-.94-.94-2.06-.94 2.06-2.06.94z\"/><path d=\"M17.41 7.96l-1.37-1.37c-.4-.4-.92-.59-1.43-.59-.52 0-1.04.2-1.43.59L10.3 9.45l-7.72 7.72c-.78.78-.78 2.05 0 2.83L4 21.41c.39.39.9.59 1.41.59.51 0 1.02-.2 1.41-.59l7.78-7.78 2.81-2.81c.8-.78.8-2.07 0-2.86zM5.41 20L4 18.59l7.72-7.72 1.47 1.35L5.41 20z\"/>\n",
              "  </svg>\n",
              "      </button>\n",
              "      \n",
              "  <style>\n",
              "    .colab-df-container {\n",
              "      display:flex;\n",
              "      flex-wrap:wrap;\n",
              "      gap: 12px;\n",
              "    }\n",
              "\n",
              "    .colab-df-convert {\n",
              "      background-color: #E8F0FE;\n",
              "      border: none;\n",
              "      border-radius: 50%;\n",
              "      cursor: pointer;\n",
              "      display: none;\n",
              "      fill: #1967D2;\n",
              "      height: 32px;\n",
              "      padding: 0 0 0 0;\n",
              "      width: 32px;\n",
              "    }\n",
              "\n",
              "    .colab-df-convert:hover {\n",
              "      background-color: #E2EBFA;\n",
              "      box-shadow: 0px 1px 2px rgba(60, 64, 67, 0.3), 0px 1px 3px 1px rgba(60, 64, 67, 0.15);\n",
              "      fill: #174EA6;\n",
              "    }\n",
              "\n",
              "    [theme=dark] .colab-df-convert {\n",
              "      background-color: #3B4455;\n",
              "      fill: #D2E3FC;\n",
              "    }\n",
              "\n",
              "    [theme=dark] .colab-df-convert:hover {\n",
              "      background-color: #434B5C;\n",
              "      box-shadow: 0px 1px 3px 1px rgba(0, 0, 0, 0.15);\n",
              "      filter: drop-shadow(0px 1px 2px rgba(0, 0, 0, 0.3));\n",
              "      fill: #FFFFFF;\n",
              "    }\n",
              "  </style>\n",
              "\n",
              "      <script>\n",
              "        const buttonEl =\n",
              "          document.querySelector('#df-2e7a48f8-ec18-4eae-93fb-d486240f5c67 button.colab-df-convert');\n",
              "        buttonEl.style.display =\n",
              "          google.colab.kernel.accessAllowed ? 'block' : 'none';\n",
              "\n",
              "        async function convertToInteractive(key) {\n",
              "          const element = document.querySelector('#df-2e7a48f8-ec18-4eae-93fb-d486240f5c67');\n",
              "          const dataTable =\n",
              "            await google.colab.kernel.invokeFunction('convertToInteractive',\n",
              "                                                     [key], {});\n",
              "          if (!dataTable) return;\n",
              "\n",
              "          const docLinkHtml = 'Like what you see? Visit the ' +\n",
              "            '<a target=\"_blank\" href=https://colab.research.google.com/notebooks/data_table.ipynb>data table notebook</a>'\n",
              "            + ' to learn more about interactive tables.';\n",
              "          element.innerHTML = '';\n",
              "          dataTable['output_type'] = 'display_data';\n",
              "          await google.colab.output.renderOutput(dataTable, element);\n",
              "          const docLink = document.createElement('div');\n",
              "          docLink.innerHTML = docLinkHtml;\n",
              "          element.appendChild(docLink);\n",
              "        }\n",
              "      </script>\n",
              "    </div>\n",
              "  </div>\n",
              "  "
            ]
          },
          "metadata": {},
          "execution_count": 9
        }
      ]
    }
  ]
}